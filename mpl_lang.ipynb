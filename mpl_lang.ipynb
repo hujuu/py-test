{
 "cells": [
  {
   "cell_type": "markdown",
   "metadata": {},
   "source": [
    "# matplotlibの日本語化"
   ]
  },
  {
   "cell_type": "code",
   "execution_count": 1,
   "metadata": {},
   "outputs": [],
   "source": [
    "from numpy.random import *\n",
    "from matplotlib import pyplot as plt\n",
    "import matplotlib as mpl\n",
    "import matplotlib.font_manager as fm"
   ]
  },
  {
   "cell_type": "code",
   "execution_count": 2,
   "metadata": {},
   "outputs": [
    {
     "name": "stdout",
     "output_type": "stream",
     "text": [
      "/Users/ken.nakai/.matplotlib\n",
      "['/System/Library/Fonts/LastResort.otf', '/Library/Fonts/STIXIntSmReg.otf', '/System/Library/Fonts/SFNSDisplayCondensed-Semibold.otf', '/System/Library/Fonts/SFNSTextCondensed-Light.otf', '/Library/Fonts/Courier New Bold Italic.ttf', '/Library/Fonts/STIXIntUpSmBol.otf', '/System/Library/Fonts/SFCompactRounded-Medium.otf', '/Library/Fonts/Comic Sans MS.ttf', '/Library/Fonts/STIXNonUniIta.otf', '/Library/Fonts/Verdana Bold Italic.ttf', '/System/Library/Fonts/Apple Braille Outline 6 Dot.ttf', '/Library/Fonts/STIXIntUpReg.otf', '/System/Library/Fonts/SFCompactText-Medium.otf', '/Library/Fonts/Khmer Sangam MN.ttf', '/Library/Fonts/Bodoni Ornaments.ttf', '/System/Library/Fonts/SFNSTextItalic.ttf', '/System/Library/Fonts/SFNSDisplay-LightItalic.otf', '/System/Library/Fonts/SFNSSymbols-Medium.otf', '/Library/Fonts/STIXSizOneSymBol.otf', '/Library/Fonts/NISC18030.ttf', '/System/Library/Fonts/SFNSRounded-Heavy.otf', '/Library/Fonts/Ayuthaya.ttf', '/Library/Fonts/Wingdings 2.ttf', '/Library/Fonts/Trebuchet MS Bold Italic.ttf', '/System/Library/Fonts/SFCompactText-SemiboldItalic.otf', '/Library/Fonts/STIXIntUpDReg.otf', '/Library/Fonts/Microsoft Sans Serif.ttf', '/System/Library/Fonts/SFNSSymbols-Black.otf', '/Library/Fonts/Arial Narrow Bold Italic.ttf', '/System/Library/Fonts/SFCompactDisplay-Medium.otf', '/System/Library/Fonts/SFNSSymbols-Regular.otf', '/System/Library/Fonts/SFNSSymbols-Semibold.otf', '/Library/Fonts/Farisi.ttf', '/Library/Fonts/BigCaslon.ttf', '/System/Library/Fonts/SFNSTextCondensed-Bold.otf', '/Library/Fonts/Luminari.ttf', '/System/Library/Fonts/SFNSDisplay-HeavyItalic.otf', '/Library/Fonts/Arial Bold.ttf', '/System/Library/Fonts/SFNSSymbols-Bold.otf', '/System/Library/Fonts/SFCompactText-Regular.otf', '/Library/Fonts/AppleMyungjo.ttf', '/Library/Fonts/Arial Rounded Bold.ttf', '/System/Library/Fonts/ZapfDingbats.ttf', '/System/Library/Fonts/Apple Braille Outline 8 Dot.ttf', '/Library/Fonts/Times New Roman Bold.ttf', '/System/Library/Fonts/SFNSDisplay-UltralightItalic.otf', '/System/Library/Fonts/Apple Braille Pinpoint 6 Dot.ttf', '/Library/Fonts/Georgia Bold.ttf', '/System/Library/Fonts/SFNSDisplay-MediumItalic.otf', '/System/Library/Fonts/SFNSDisplayCondensed-Medium.otf', '/System/Library/Fonts/SFCompactRounded-Light.otf', '/System/Library/Fonts/SFNSRounded-Thin.otf', '/Library/Fonts/STIXGeneralItalic.otf', '/System/Library/Fonts/SFNSDisplay-BlackItalic.otf', '/System/Library/Fonts/Apple Symbols.ttf', '/Library/Fonts/STIXGeneral.otf', '/System/Library/Fonts/SFNSDisplayCondensed-Light.otf', '/Library/Fonts/Wingdings.ttf', '/Library/Fonts/Times New Roman Bold Italic.ttf', '/System/Library/Fonts/SFNSDisplay.ttf', '/System/Library/Fonts/Apple Braille Pinpoint 8 Dot.ttf', '/Library/Fonts/DIN Condensed Bold.ttf', '/Library/Fonts/Krungthep.ttf', '/System/Library/Fonts/SFCompactDisplay-Ultralight.otf', '/Library/Fonts/Courier New Italic.ttf', '/System/Library/Fonts/SFCompactDisplay-Light.otf', '/Library/Fonts/STIXNonUniBolIta.otf', '/Library/Fonts/Verdana.ttf', '/System/Library/Fonts/Keyboard.ttf', '/System/Library/Fonts/SFNSRounded-Black.otf', '/Library/Fonts/Trebuchet MS Italic.ttf', '/Library/Fonts/Courier New.ttf', '/Library/Fonts/STIXSizFourSymReg.otf', '/Library/Fonts/Times New Roman.ttf', '/Library/Fonts/Arial Narrow Italic.ttf', '/System/Library/Fonts/SFCompactRounded-Black.otf', '/System/Library/Fonts/SFNSDisplayCondensed-Black.otf', '/System/Library/Fonts/SFNSDisplayCondensed-Ultralight.otf', '/System/Library/Fonts/SFNSRounded-Ultralight.otf', '/Library/Fonts/Impact.ttf', '/Library/Fonts/Tahoma.ttf', '/System/Library/Fonts/SFNSSymbols-Thin.otf', '/System/Library/Fonts/SFNSRounded-Bold.otf', '/System/Library/Fonts/SFNSRounded-Medium.otf', '/Library/Fonts/STIXIntDBol.otf', '/Library/Fonts/Mishafi.ttf', '/Library/Fonts/Arial Black.ttf', '/System/Library/Fonts/SFNSDisplayCondensed-Heavy.otf', '/System/Library/Fonts/SFCompactText-RegularItalic.otf', '/Library/Fonts/STIXSizFiveSymReg.otf', '/Library/Fonts/Hoefler Text Ornaments.ttf', '/System/Library/Fonts/SFCompactText-Light.otf', '/Library/Fonts/Arial Unicode.ttf', '/System/Library/Fonts/SFNSDisplay-ThinG2.otf', '/System/Library/Fonts/SFNSTextCondensed-Heavy.otf', '/Library/Fonts/STIXSizFourSymBol.otf', '/System/Library/Fonts/SFCompactRounded-Bold.otf', '/Library/Fonts/Georgia Bold Italic.ttf', '/System/Library/Fonts/SFNSDisplayCondensed-Thin.otf', '/Library/Fonts/Bradley Hand Bold.ttf', '/Library/Fonts/STIXGeneralBolIta.otf', '/System/Library/Fonts/SFNSDisplay-SemiboldItalic.otf', '/System/Library/Fonts/SFNSText.ttf', '/Library/Fonts/Brush Script.ttf', '/System/Library/Fonts/SFNSRounded-Light.otf', '/Library/Fonts/Silom.ttf', '/Library/Fonts/Bodoni 72 Smallcaps Book.ttf', '/System/Library/Fonts/SFNSRounded-Semibold.otf', '/System/Library/Fonts/SFCompactText-BoldItalic.otf', '/Library/Fonts/Lao Sangam MN.ttf', '/Library/Fonts/Apple Chancery.ttf', '/System/Library/Fonts/SFCompactDisplay-Bold.otf', '/Library/Fonts/Verdana Italic.ttf', '/Library/Fonts/Arial.ttf', '/System/Library/Fonts/SFNSRounded-Regular.otf', '/System/Library/Fonts/SFCompactRounded-Semibold.otf', '/System/Library/Fonts/SFCompactRounded-Thin.otf', '/System/Library/Fonts/SFNSDisplay-BoldItalic.otf', '/System/Library/Fonts/SFNSSymbols-Light.otf', '/System/Library/Fonts/SFCompactText-MediumItalic.otf', '/System/Library/Fonts/Apple Braille.ttf', '/System/Library/Fonts/SFCompactDisplay-Regular.otf', '/Library/Fonts/STIXGeneralBol.otf', '/Library/Fonts/Mishafi Gold.ttf', '/Library/Fonts/Times New Roman Italic.ttf', '/Library/Fonts/Skia.ttf', '/System/Library/Fonts/SFNSTextCondensed-Regular.otf', '/System/Library/Fonts/SFNSDisplay-ThinG3.otf', '/System/Library/Fonts/SFNSDisplay-ThinItalic.otf', '/System/Library/Fonts/SFCompactText-Bold.otf', '/System/Library/Fonts/SFCompactRounded-Heavy.otf', '/Library/Fonts/STIXIntSmBol.otf', '/System/Library/Fonts/SFCompactText-Semibold.otf', '/Library/Fonts/STIXNonUniBol.otf', '/Library/Fonts/Zapfino.ttf', '/Library/Fonts/Kokonor.ttf', '/System/Library/Fonts/SFNSDisplay-ThinG4.otf', '/System/Library/Fonts/SFCompactDisplay-Thin.otf', '/Library/Fonts/PlantagenetCherokee.ttf', '/Library/Fonts/Trattatello.ttf', '/System/Library/Fonts/SFCompactDisplay-Semibold.otf', '/Library/Fonts/Trebuchet MS Bold.ttf', '/Library/Fonts/Chalkduster.ttf', '/System/Library/Fonts/SFNSTextCondensed-Medium.otf', '/Library/Fonts/Arial Narrow.ttf', '/Library/Fonts/STIXNonUni.otf', '/Library/Fonts/Courier New Bold.ttf', '/System/Library/Fonts/SFCompactText-HeavyItalic.otf', '/System/Library/Fonts/Symbol.ttf', '/System/Library/Fonts/SFNSSymbols-Heavy.otf', '/Library/Fonts/STIXSizOneSymReg.otf', '/System/Library/Fonts/SFCompactText-Heavy.otf', '/System/Library/Fonts/SFNSDisplayCondensed-Bold.otf', '/System/Library/Fonts/SFCompactText-LightItalic.otf', '/Library/Fonts/Andale Mono.ttf', '/Library/Fonts/Tahoma Bold.ttf', '/Library/Fonts/STIXVarBol.otf', '/Library/Fonts/AppleGothic.ttf', '/Library/Fonts/Webdings.ttf', '/Library/Fonts/DIN Alternate Bold.ttf', '/Library/Fonts/STIXIntDReg.otf', '/System/Library/Fonts/SFCompactDisplay-Heavy.otf', '/System/Library/Fonts/SFCompactDisplay-Black.otf', '/Library/Fonts/Arial Narrow Bold.ttf', '/Library/Fonts/STIXSizTwoSymReg.otf', '/Library/Fonts/Gurmukhi.ttf', '/System/Library/Fonts/SFCompactRounded-Regular.otf', '/Library/Fonts/Wingdings 3.ttf', '/Library/Fonts/Herculanum.ttf', '/Library/Fonts/STIXVar.otf', '/Library/Fonts/Arial Italic.ttf', '/Library/Fonts/STIXSizThreeSymReg.otf', '/Library/Fonts/Sathu.ttf', '/Library/Fonts/Comic Sans MS Bold.ttf', '/System/Library/Fonts/SFNSDisplayCondensed-Regular.otf', '/Library/Fonts/Georgia Italic.ttf', '/Library/Fonts/Georgia.ttf', '/System/Library/Fonts/SFNSTextCondensed-Semibold.otf', '/System/Library/Fonts/SFCompactRounded-Ultralight.otf', '/Library/Fonts/STIXIntUpSmReg.otf', '/Library/Fonts/STIXSizTwoSymBol.otf', '/Library/Fonts/Diwan Thuluth.ttf', '/Library/Fonts/Verdana Bold.ttf', '/System/Library/Fonts/SFNSSymbols-Ultralight.otf', '/System/Library/Fonts/SFNSDisplay-RegularItalic.otf', '/Library/Fonts/STIXIntUpBol.otf', '/System/Library/Fonts/SFNSDisplay-ThinG1.otf', '/Library/Fonts/STIXIntUpDBol.otf', '/Library/Fonts/Trebuchet MS.ttf', '/Library/Fonts/Arial Bold Italic.ttf', '/Library/Fonts/STIXSizThreeSymBol.otf']\n"
     ]
    }
   ],
   "source": [
    "print(mpl.get_configdir())\n",
    "print(fm.findSystemFonts())\n",
    "\n",
    "# 乱数生成\n",
    "rand_nums = randn(100)"
   ]
  },
  {
   "cell_type": "code",
   "execution_count": 3,
   "metadata": {},
   "outputs": [],
   "source": [
    "# 追加部分 フォントを指定する。\n",
    "plt.rcParams[\"font.family\"] = \"IPAexGothic\""
   ]
  },
  {
   "cell_type": "code",
   "execution_count": 4,
   "metadata": {},
   "outputs": [
    {
     "data": {
      "image/png": "[encoded data removed]",
      "text/plain": [
       "<Figure size 432x288 with 1 Axes>"
      ]
     },
     "metadata": {
      "needs_background": "light"
     },
     "output_type": "display_data"
    }
   ],
   "source": [
    "# ヒストグラム表示\n",
    "plt.hist(rand_nums)\n",
    "plt.xlabel(\"X軸と表示したい\")\n",
    "plt.ylabel(\"Y軸と表示したい\")\n",
    "plt.show()"
   ]
  },
  {
   "cell_type": "code",
   "execution_count": null,
   "metadata": {},
   "outputs": [],
   "source": []
  },
  {
   "cell_type": "code",
   "execution_count": 1,
   "metadata": {
    "scrolled": true
   },
   "outputs": [
    {
     "data": {
      "text/plain": [
       "2"
      ]
     },
     "execution_count": 1,
     "metadata": {},
     "output_type": "execute_result"
    }
   ],
   "source": [
    "1+1"
   ]
  },
  {
   "cell_type": "code",
   "execution_count": null,
   "metadata": {},
   "outputs": [],
   "source": []
  },
  {
   "cell_type": "code",
   "execution_count": null,
   "metadata": {},
   "outputs": [],
   "source": []
  },
  {
   "cell_type": "code",
   "execution_count": null,
   "metadata": {},
   "outputs": [],
   "source": []
  },
  {
   "cell_type": "code",
   "execution_count": null,
   "metadata": {},
   "outputs": [],
   "source": []
  },
  {
   "cell_type": "markdown",
   "metadata": {},
   "source": [
    "日本語表示が出来るようになりました"
   ]
  }
 ],
 "metadata": {
  "kernelspec": {
   "display_name": "Python 3",
   "language": "python",
   "name": "python3"
  },
  "language_info": {
   "codemirror_mode": {
    "name": "ipython",
    "version": 3
   },
   "file_extension": ".py",
   "mimetype": "text/x-python",
   "name": "python",
   "nbconvert_exporter": "python",
   "pygments_lexer": "ipython3",
   "version": "3.7.2"
  }
 },
 "nbformat": 4,
 "nbformat_minor": 2
}
