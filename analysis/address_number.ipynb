{
 "metadata": {
  "language_info": {
   "codemirror_mode": {
    "name": "ipython",
    "version": 3
   },
   "file_extension": ".py",
   "mimetype": "text/x-python",
   "name": "python",
   "nbconvert_exporter": "python",
   "pygments_lexer": "ipython3",
   "version": "3.8.2-final"
  },
  "orig_nbformat": 2,
  "kernelspec": {
   "name": "python3",
   "display_name": "Python 3.8.2 64-bit",
   "metadata": {
    "interpreter": {
     "hash": "31f2aee4e71d21fbe5cf8b01ff0e069b9275f58929596ceb00d14d90e3e16cd6"
    }
   }
  }
 },
 "nbformat": 4,
 "nbformat_minor": 2,
 "cells": [
  {
   "cell_type": "code",
   "execution_count": 1,
   "metadata": {},
   "outputs": [],
   "source": [
    "import pandas as pd"
   ]
  },
  {
   "cell_type": "code",
   "execution_count": 2,
   "metadata": {},
   "outputs": [],
   "source": [
    "zip_codes = pd.read_csv('./KEN_ALL.csv', encoding=\"cp932\", header=None)\n",
    "zip_codes = zip_codes[[2, 6, 7, 8]]\n",
    "zip_codes = zip_codes.rename(\n",
    "    columns={2: '郵便番号', 6: \"都道府県\", 7: \"市区町村\", 8: \"字・番地\"})\n",
    "zip_codes = zip_codes.drop_duplicates(subset=['郵便番号'], keep='first')"
   ]
  },
  {
   "cell_type": "code",
   "execution_count": 4,
   "metadata": {},
   "outputs": [
    {
     "output_type": "execute_result",
     "data": {
      "text/plain": [
       "           郵便番号 都道府県     市区町村 字・番地\n",
       "94069   6350036  奈良県    大和高田市  旭北町\n",
       "34586   2860816  千葉県      成田市   成毛\n",
       "111678  8080041  福岡県  北九州市若松区  迫田町"
      ],
      "text/html": "<div>\n<style scoped>\n    .dataframe tbody tr th:only-of-type {\n        vertical-align: middle;\n    }\n\n    .dataframe tbody tr th {\n        vertical-align: top;\n    }\n\n    .dataframe thead th {\n        text-align: right;\n    }\n</style>\n<table border=\"1\" class=\"dataframe\">\n  <thead>\n    <tr style=\"text-align: right;\">\n      <th></th>\n      <th>郵便番号</th>\n      <th>都道府県</th>\n      <th>市区町村</th>\n      <th>字・番地</th>\n    </tr>\n  </thead>\n  <tbody>\n    <tr>\n      <th>94069</th>\n      <td>6350036</td>\n      <td>奈良県</td>\n      <td>大和高田市</td>\n      <td>旭北町</td>\n    </tr>\n    <tr>\n      <th>34586</th>\n      <td>2860816</td>\n      <td>千葉県</td>\n      <td>成田市</td>\n      <td>成毛</td>\n    </tr>\n    <tr>\n      <th>111678</th>\n      <td>8080041</td>\n      <td>福岡県</td>\n      <td>北九州市若松区</td>\n      <td>迫田町</td>\n    </tr>\n  </tbody>\n</table>\n</div>"
     },
     "metadata": {},
     "execution_count": 4
    }
   ],
   "source": [
    "zip_codes.sample(n=3)"
   ]
  },
  {
   "cell_type": "code",
   "execution_count": null,
   "metadata": {},
   "outputs": [],
   "source": []
  }
 ]
}