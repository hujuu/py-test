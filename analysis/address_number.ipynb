{
 "metadata": {
  "language_info": {
   "codemirror_mode": {
    "name": "ipython",
    "version": 3
   },
   "file_extension": ".py",
   "mimetype": "text/x-python",
   "name": "python",
   "nbconvert_exporter": "python",
   "pygments_lexer": "ipython3",
   "version": "3.8.2-final"
  },
  "orig_nbformat": 2,
  "kernelspec": {
   "name": "python3",
   "display_name": "Python 3.8.2 64-bit",
   "metadata": {
    "interpreter": {
     "hash": "31f2aee4e71d21fbe5cf8b01ff0e069b9275f58929596ceb00d14d90e3e16cd6"
    }
   }
  }
 },
 "nbformat": 4,
 "nbformat_minor": 2,
 "cells": [
  {
   "cell_type": "code",
   "execution_count": 1,
   "metadata": {},
   "outputs": [],
   "source": [
    "import pandas as pd"
   ]
  },
  {
   "cell_type": "code",
   "execution_count": 7,
   "metadata": {},
   "outputs": [],
   "source": [
    "zip_codes = pd.read_csv('./KEN_ALL.csv', encoding=\"cp932\", header=None)\n",
    "zip_codes = zip_codes[[2, 6, 7, 8]]\n",
    "zip_codes = zip_codes.rename(\n",
    "    columns={2: '郵便番号', 6: \"都道府県\", 7: \"市区町村\", 8: \"字・番地\"})\n",
    "zip_codes = zip_codes.drop_duplicates(subset=['郵便番号'], keep='first')"
   ]
  },
  {
   "cell_type": "code",
   "execution_count": 6,
   "metadata": {},
   "outputs": [
    {
     "output_type": "execute_result",
     "data": {
      "text/plain": [
       "          郵便番号 都道府県    市区町村   字・番地\n",
       "4037    493124  北海道  二海郡八雲町     浜松\n",
       "90897  6695361  兵庫県     豊岡市  日高町栗山\n",
       "91829  6691324  兵庫県     三田市  ゆりのき台"
      ],
      "text/html": "<div>\n<style scoped>\n    .dataframe tbody tr th:only-of-type {\n        vertical-align: middle;\n    }\n\n    .dataframe tbody tr th {\n        vertical-align: top;\n    }\n\n    .dataframe thead th {\n        text-align: right;\n    }\n</style>\n<table border=\"1\" class=\"dataframe\">\n  <thead>\n    <tr style=\"text-align: right;\">\n      <th></th>\n      <th>郵便番号</th>\n      <th>都道府県</th>\n      <th>市区町村</th>\n      <th>字・番地</th>\n    </tr>\n  </thead>\n  <tbody>\n    <tr>\n      <th>4037</th>\n      <td>493124</td>\n      <td>北海道</td>\n      <td>二海郡八雲町</td>\n      <td>浜松</td>\n    </tr>\n    <tr>\n      <th>90897</th>\n      <td>6695361</td>\n      <td>兵庫県</td>\n      <td>豊岡市</td>\n      <td>日高町栗山</td>\n    </tr>\n    <tr>\n      <th>91829</th>\n      <td>6691324</td>\n      <td>兵庫県</td>\n      <td>三田市</td>\n      <td>ゆりのき台</td>\n    </tr>\n  </tbody>\n</table>\n</div>"
     },
     "metadata": {},
     "execution_count": 6
    }
   ],
   "source": [
    "zip_codes.sample(n=3)"
   ]
  },
  {
   "cell_type": "code",
   "execution_count": null,
   "metadata": {},
   "outputs": [],
   "source": []
  }
 ]
}